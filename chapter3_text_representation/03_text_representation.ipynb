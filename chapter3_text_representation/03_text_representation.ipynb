{
 "cells": [
  {
   "cell_type": "markdown",
   "metadata": {},
   "source": [
    "# Chapter 3. Text Representation\n",
    "\n",
    "无论你使用多么好的模型，如果feature 很差，结果一定也不会好。\n",
    "\n",
    "> garbage in, garbage out.\n",
    "\n",
    "本章介绍，怎么构建好的feature，换句话说，如何把text 转化成numerical form (作为模型的输入). 这个过程称为feature engineering，在NLP 领域也称为Text Representation.  \n",
    "\n",
    "<img src=\"../figures/3-1.png\" alt=\"drawing\" width=\"600\"/>\n",
    "\n"
   ]
  },
  {
   "cell_type": "code",
   "execution_count": null,
   "metadata": {},
   "outputs": [],
   "source": []
  }
 ],
 "metadata": {
  "kernelspec": {
   "display_name": "Python 3",
   "language": "python",
   "name": "python3"
  },
  "language_info": {
   "codemirror_mode": {
    "name": "ipython",
    "version": 3
   },
   "file_extension": ".py",
   "mimetype": "text/x-python",
   "name": "python",
   "nbconvert_exporter": "python",
   "pygments_lexer": "ipython3",
   "version": "3.6.8"
  }
 },
 "nbformat": 4,
 "nbformat_minor": 2
}
