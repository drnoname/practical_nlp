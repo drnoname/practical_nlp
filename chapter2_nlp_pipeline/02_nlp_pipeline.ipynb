{
 "cells": [
  {
   "cell_type": "markdown",
   "metadata": {},
   "source": [
    "# 2. NLP Pipeline\n",
    "\n",
    "The whole is more than the sum of its parts. It is more correct to say that the whole is something else than the sum of its parts, because summing up is a meaningless procedure, whereas the whole-part relationship is meaningful.\n",
    "\n",
    "-- Kurt Koffka\n",
    "\n",
    "#### The main components of a generic pipeline for modern-day, data-driven NLP system development:\n",
    "\n",
    "1. Data acquisition\n",
    "\n",
    "2. Text cleaning\n",
    "\n",
    "3. Pre-processing\n",
    "\n",
    "4. Feature engineering\n",
    "\n",
    "5. Modeling\n",
    "\n",
    "6. Evaluation\n",
    "\n",
    "7. Deployment\n",
    "\n",
    "8. Monitoring and model updating\n",
    "\n",
    "<img src=\"../figures/2-1.png\" alt=\"drawing\" width=\"600\"/>\n",
    "\n"
   ]
  },
  {
   "cell_type": "markdown",
   "metadata": {},
   "source": []
  }
 ],
 "metadata": {
  "kernelspec": {
   "display_name": "Python 3",
   "language": "python",
   "name": "python3"
  },
  "language_info": {
   "codemirror_mode": {
    "name": "ipython",
    "version": 3
   },
   "file_extension": ".py",
   "mimetype": "text/x-python",
   "name": "python",
   "nbconvert_exporter": "python",
   "pygments_lexer": "ipython3",
   "version": "3.6.8"
  }
 },
 "nbformat": 4,
 "nbformat_minor": 2
}
